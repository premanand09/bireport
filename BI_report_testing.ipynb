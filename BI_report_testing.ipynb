{
 "cells": [
  {
   "cell_type": "markdown",
   "id": "978ba34c",
   "metadata": {},
   "source": [
    "https://learn.microsoft.com/en-us/javascript/api/overview/powerbi/powerbi-jupyter\n",
    "\n",
    "https://github.com/microsoft/powerbi-jupyter/blob/main/demo/Embed%20Power%20BI%20report%20demo.ipynb\n",
    "\n",
    "https://github.com/microsoft/powerbi-jupyter/blob/main/DOCUMENTATION.md#get_access_token"
   ]
  },
  {
   "cell_type": "markdown",
   "id": "8f6a5378",
   "metadata": {},
   "source": [
    "##### Get Azure AD tokens for users by using the Azure CLI\n",
    "az login --output table\n",
    "\n",
    "az account set --name \"<subscription-name>\"\n",
    "\n",
    "Or ...\n",
    "\n",
    "az account set --subscription <subscription-id> \n",
    "##### Note - go to subscriptions in azure portal to get subscription id & name\n",
    "    \n",
    "az account list --output table\n",
    "\n",
    "az account get-access-token --resource https://analysis.windows.net/powerbi/api"
   ]
  },
  {
   "cell_type": "code",
   "execution_count": null,
   "id": "67cd9d50",
   "metadata": {},
   "outputs": [],
   "source": [
    "# install nodejs from conda"
   ]
  },
  {
   "cell_type": "code",
   "execution_count": 1,
   "id": "6a58d7ae",
   "metadata": {
    "tags": []
   },
   "outputs": [],
   "source": [
    "# ! pip install powerbiclient"
   ]
  },
  {
   "cell_type": "code",
   "execution_count": 2,
   "id": "4f27d968-0ff6-41ba-879a-656d40613105",
   "metadata": {
    "tags": []
   },
   "outputs": [
    {
     "name": "stdout",
     "output_type": "stream",
     "text": [
      "Argument 1: -f\n",
      "Argument 2: C:\\Users\\prenaik\\AppData\\Roaming\\jupyter\\runtime\\kernel-636c9305-817d-4f70-b1a7-d26b2f60a4e6.json\n"
     ]
    }
   ],
   "source": [
    "import sys\n",
    "\n",
    "# Parse command-line arguments\n",
    "if len(sys.argv) < 2:\n",
    "    print(\"Usage: notebook.ipynb <arg1> <arg2>\")\n",
    "else:\n",
    "    arg1 = sys.argv[1]\n",
    "    arg2 = sys.argv[2]\n",
    "    print(f\"Argument 1: {arg1}\")\n",
    "    print(f\"Argument 2: {arg2}\")\n"
   ]
  },
  {
   "cell_type": "code",
   "execution_count": 18,
   "id": "91b21f39-d684-4580-a6a0-5c4b940bda6f",
   "metadata": {
    "tags": []
   },
   "outputs": [],
   "source": [
    "from powerbiclient import Report, models\n",
    "import pandas as pd\n",
    "from io import StringIO\n",
    "from IPython.display import display, HTML"
   ]
  },
  {
   "cell_type": "code",
   "execution_count": 12,
   "id": "62171630-aba9-46e1-9fbf-f623276f26ed",
   "metadata": {
    "tags": []
   },
   "outputs": [
    {
     "name": "stdout",
     "output_type": "stream",
     "text": [
      "A local browser window will open for interactive sign in.\n",
      "\n",
      "Interactive authentication successfully completed.\n",
      "You are now logged in.\n",
      "\n",
      "The result should be passed only to trusted code in your notebook.\n"
     ]
    }
   ],
   "source": [
    "from powerbiclient.authentication import InteractiveLoginAuthentication\n",
    "interactive_auth = InteractiveLoginAuthentication()"
   ]
  },
  {
   "cell_type": "code",
   "execution_count": 13,
   "id": "d6810281",
   "metadata": {},
   "outputs": [
    {
     "data": {
      "text/plain": [
       "'eyJ0eXAiOiJKV1QiLCJhbGciOiJSUzI1NiIsIng1dCI6Ii1LSTNROW5OUjdiUm9meG1lWm9YcWJIWkdldyIsImtpZCI6Ii1LSTNROW5OUjdiUm9meG1lWm9YcWJIWkdldyJ9.eyJhdWQiOiJodHRwczovL2FuYWx5c2lzLndpbmRvd3MubmV0L3Bvd2VyYmkvYXBpIiwiaXNzIjoiaHR0cHM6Ly9zdHMud2luZG93cy5uZXQvMzZkYTQ1ZjEtZGQyYy00ZDFmLWFmMTMtNWFiZTQ2Yjk5OTIxLyIsImlhdCI6MTY5MzkzNDg3NiwibmJmIjoxNjkzOTM0ODc2LCJleHAiOjE2OTM5NDAwMzgsImFjY3QiOjAsImFjciI6IjEiLCJhaW8iOiJFMkVBZ3RoSHJ6TWsvczV1MU45ZXIyTEd6bSt5N1l5N083K3MyT01qRWV1czEvRW1LeHZYL0Yyc3QwTjZ2M0VTejlrUExnY0EiLCJhbXIiOlsicHdkIiwicnNhIl0sImFwcGlkIjoiMWFlYTNmOTctZWRjNi00NDUzLWE1OWItYjg4YjBiODAzNzExIiwiYXBwaWRhY3IiOiIwIiwiY29udHJvbHMiOlsiYXBwX3JlcyJdLCJjb250cm9sc19hdWRzIjpbIjAwMDAwMDAzLTAwMDAtMGZmMS1jZTAwLTAwMDAwMDAwMDAwMCJdLCJkZXZpY2VpZCI6IjhhN2FkOTI2LWQ2M2UtNDc4NC04YTFiLTkxYzY4N2JkY2M0MyIsImZhbWlseV9uYW1lIjoiTmFpayIsImdpdmVuX25hbWUiOiJQcmVtYW5hbmQgY2hhbmRyYWthbnQiLCJpcGFkZHIiOiIxMDYuMjIwLjE0Ny4yMjgiLCJuYW1lIjoiTmFpaywgUHJlbWFuYW5kIGNoYW5kcmFrYW50Iiwib2lkIjoiNDk2M2NjODAtNmE1YS00YjAxLWI3YWItY2Q0MGU1NzQ2ODFkIiwib25wcmVtX3NpZCI6IlMtMS01LTIxLTIzODQ0NzI3Ni0xMDQwODYxOTIzLTE4NTA5NTI3ODgtMjkxNjY2NSIsInB1aWQiOiIxMDAzMjAwMEVFMjU4QTU4IiwicmgiOiIwLkFTWUE4VVhhTml6ZEgwMnZFMXEtUnJtWklRa0FBQUFBQUFBQXdBQUFBQUFBQUFBbUFPay4iLCJzY3AiOiJDb250ZW50LkNyZWF0ZSBEYXRhc2V0LlJlYWRXcml0ZS5BbGwgUmVwb3J0LlJlYWRXcml0ZS5BbGwgV29ya3NwYWNlLlJlYWQuQWxsIiwic2lnbmluX3N0YXRlIjpbImR2Y19tbmdkIiwiZHZjX2RtamQiLCJrbXNpIl0sInN1YiI6Ik42alFuU2dsYzIzcUlyVkI4TXZqcnY4QnZ0V0FMSVJpeURoTkJvSFRaUTQiLCJ0aWQiOiIzNmRhNDVmMS1kZDJjLTRkMWYtYWYxMy01YWJlNDZiOTk5MjEiLCJ1bmlxdWVfbmFtZSI6InByZW5haWtAZGVsb2l0dGUuY29tIiwidXBuIjoicHJlbmFpa0BkZWxvaXR0ZS5jb20iLCJ1dGkiOiJFV3hialIydEowLXZsRlRCT05ZVUFRIiwidmVyIjoiMS4wIiwid2lkcyI6WyJiNzlmYmY0ZC0zZWY5LTQ2ODktODE0My03NmIxOTRlODU1MDkiXX0.jCIAYuzuFiU2qxXA6tnfEZAvP4iwz8ReFU6fitwHxvE6A2uyRO3cdGW-xoHX1cyigl4-S0JF5lWQzIjByJBN0EWahBEuULAjMYG-N1YMSsc6gSXyWA5s19ADcsSpv7W8DRa09XsM9Oq9Hlc-d05d4BopA0vRpVIi8sahlFILYE1NMw1Gl_-vUho6MRQYHtoXY-T_CCekrateNu1IwygGtLTl0uewwQQZLiYjTgP470tHfugJ1d9_thPaLwFnKnWinQ59rlAQIlyMmt3oywiVYj8WjVJ95ljxivAUeNBU2vL4LpcWXpFiS4gfOWYotmmWI09Tai9Pe1OOA8il_Ra6dg'"
      ]
     },
     "execution_count": 13,
     "metadata": {},
     "output_type": "execute_result"
    }
   ],
   "source": [
    "interactive_auth.get_access_token()"
   ]
  },
  {
   "cell_type": "code",
   "execution_count": 14,
   "id": "fd58ea6c-2685-4eea-93fe-3f7cb1d4ed92",
   "metadata": {
    "tags": []
   },
   "outputs": [],
   "source": [
    "group_id=\"54dfa6ef-ae58-4ebd-8873-bade0c9c2fbf\"\n",
    "report_id=\"4c0046ac-957f-440f-8e79-a70693cc4498\""
   ]
  },
  {
   "cell_type": "code",
   "execution_count": 15,
   "id": "2fa717f9-68ac-40a1-b3cc-6120c22f386e",
   "metadata": {
    "tags": []
   },
   "outputs": [],
   "source": [
    "#report = Report(group_id=group_id, report_id=report_id, auth=device_auth)"
   ]
  },
  {
   "cell_type": "code",
   "execution_count": 16,
   "id": "0812e197-5c83-4201-866b-5c8663048e1a",
   "metadata": {},
   "outputs": [],
   "source": [
    "report = Report(group_id=group_id, report_id=report_id, auth=interactive_auth)"
   ]
  },
  {
   "cell_type": "code",
   "execution_count": 21,
   "id": "5ccf92f5",
   "metadata": {},
   "outputs": [
    {
     "data": {
      "application/vnd.jupyter.widget-view+json": {
       "model_id": "4854abb977cb45cca9bb97b8aca84552",
       "version_major": 2,
       "version_minor": 0
      },
      "text/plain": [
       "Report()"
      ]
     },
     "metadata": {},
     "output_type": "display_data"
    }
   ],
   "source": [
    "# Display the HTML content\n",
    "display(report)"
   ]
  },
  {
   "cell_type": "code",
   "execution_count": 46,
   "id": "ea1bbd40",
   "metadata": {},
   "outputs": [],
   "source": [
    "def get_active_page(self, page_name):\n",
    "    \n",
    "    # Get list of pages\n",
    "    pages = self.get_pages()\n",
    "    active_page = {}\n",
    "    for page in pages:\n",
    "        \n",
    "        # Get active page\n",
    "        if page['displayName'] == page_name:\n",
    "            active_page = page\n",
    "            break\n",
    "    return active_page['name']"
   ]
  },
  {
   "cell_type": "code",
   "execution_count": 54,
   "id": "bdc7cad1",
   "metadata": {},
   "outputs": [],
   "source": [
    "active_page_name = get_active_page(report,'Risk Analytics')"
   ]
  },
  {
   "cell_type": "code",
   "execution_count": 57,
   "id": "830bdae0",
   "metadata": {},
   "outputs": [
    {
     "data": {
      "text/plain": [
       "'ReportSectionaeffc6c2512def112cfa'"
      ]
     },
     "execution_count": 57,
     "metadata": {},
     "output_type": "execute_result"
    }
   ],
   "source": [
    "active_page_name"
   ]
  },
  {
   "cell_type": "code",
   "execution_count": 49,
   "id": "165f4982",
   "metadata": {},
   "outputs": [],
   "source": [
    "# Get list of visuals on active page\n",
    "visuals = report.visuals_on_page('ReportSectionaeffc6c2512def112cfa')"
   ]
  },
  {
   "cell_type": "code",
   "execution_count": 61,
   "id": "d40a515c",
   "metadata": {},
   "outputs": [],
   "source": [
    "for visual in visuals:\n",
    "    if visual['title'] == 'Average of Risk by Factor':\n",
    "        visual_name = visual['name']\n",
    "        break"
   ]
  },
  {
   "cell_type": "code",
   "execution_count": 62,
   "id": "6cf2907c",
   "metadata": {},
   "outputs": [
    {
     "data": {
      "text/plain": [
       "'60f36c4ab1755d40a1d3'"
      ]
     },
     "execution_count": 62,
     "metadata": {},
     "output_type": "execute_result"
    }
   ],
   "source": [
    "visual_name"
   ]
  },
  {
   "cell_type": "code",
   "execution_count": 63,
   "id": "e37f7b35",
   "metadata": {},
   "outputs": [
    {
     "name": "stdout",
     "output_type": "stream",
     "text": [
      "Factor,Average of Risk\r\n",
      "Forecast Accuracy: < 50%,33.67\r\n",
      "Inventory Level: Low,33.67\r\n",
      "Inventory Level: Medium,30.00\r\n",
      "Manufactured Goods: < 70%,20.33\r\n",
      "Category: Highly Intermittent,10.00\r\n",
      "Manufactured Goods: 80%-90%,10.00\r\n",
      "Category: High Value Volatile,8.00\r\n",
      "Forecast Accuracy: 50-80%,4.00\r\n",
      "Manufactured Goods: 100%-110%,4.00\r\n",
      "Manufactured Goods: 90%-100%,-6.00\r\n",
      "Category: Low Value Stable,-6.67\r\n",
      "Category: High Value Stable,-12.00\r\n",
      "Forecast Accuracy: 80%-100%,-12.50\r\n",
      "Inventory Level: High,-17.50\r\n",
      "\n"
     ]
    }
   ],
   "source": [
    "# Export summarized data from a visual of the embedded report\n",
    "summarized_exported_data = report.export_visual_data(active_page_name, visual_name, rows = 20)\n",
    "\n",
    "# print(summarized_exported_data)"
   ]
  },
  {
   "cell_type": "code",
   "execution_count": 68,
   "id": "298ab9b7",
   "metadata": {},
   "outputs": [
    {
     "data": {
      "text/html": [
       "<div>\n",
       "<style scoped>\n",
       "    .dataframe tbody tr th:only-of-type {\n",
       "        vertical-align: middle;\n",
       "    }\n",
       "\n",
       "    .dataframe tbody tr th {\n",
       "        vertical-align: top;\n",
       "    }\n",
       "\n",
       "    .dataframe thead th {\n",
       "        text-align: right;\n",
       "    }\n",
       "</style>\n",
       "<table border=\"1\" class=\"dataframe\">\n",
       "  <thead>\n",
       "    <tr style=\"text-align: right;\">\n",
       "      <th></th>\n",
       "      <th>Factor</th>\n",
       "      <th>Average of Risk</th>\n",
       "    </tr>\n",
       "  </thead>\n",
       "  <tbody>\n",
       "    <tr>\n",
       "      <th>0</th>\n",
       "      <td>Forecast Accuracy: &lt; 50%</td>\n",
       "      <td>33.67</td>\n",
       "    </tr>\n",
       "    <tr>\n",
       "      <th>1</th>\n",
       "      <td>Inventory Level: Low</td>\n",
       "      <td>33.67</td>\n",
       "    </tr>\n",
       "    <tr>\n",
       "      <th>2</th>\n",
       "      <td>Inventory Level: Medium</td>\n",
       "      <td>30.00</td>\n",
       "    </tr>\n",
       "    <tr>\n",
       "      <th>3</th>\n",
       "      <td>Manufactured Goods: &lt; 70%</td>\n",
       "      <td>20.33</td>\n",
       "    </tr>\n",
       "    <tr>\n",
       "      <th>4</th>\n",
       "      <td>Category: Highly Intermittent</td>\n",
       "      <td>10.00</td>\n",
       "    </tr>\n",
       "  </tbody>\n",
       "</table>\n",
       "</div>"
      ],
      "text/plain": [
       "                          Factor  Average of Risk\n",
       "0       Forecast Accuracy: < 50%            33.67\n",
       "1           Inventory Level: Low            33.67\n",
       "2        Inventory Level: Medium            30.00\n",
       "3      Manufactured Goods: < 70%            20.33\n",
       "4  Category: Highly Intermittent            10.00"
      ]
     },
     "execution_count": 68,
     "metadata": {},
     "output_type": "execute_result"
    }
   ],
   "source": [
    "data = StringIO(summarized_exported_data)\n",
    "\n",
    "df = pd.read_csv(data, sep=\",\")\n",
    "df.head()"
   ]
  },
  {
   "cell_type": "code",
   "execution_count": null,
   "id": "e0bc52ca",
   "metadata": {},
   "outputs": [],
   "source": [
    "# conda install -c anaconda nbconvert\n",
    "# jupyter nbconvert --execute BI_report_testing.ipynb --ExecutePreprocessor.kernel_name=python --ExecutePreprocessor.allow_errors=True --ExecutePreprocessor.timeout=600 --execute \"--arg1 prem --arg2 kumar\""
   ]
  }
 ],
 "metadata": {
  "kernelspec": {
   "display_name": "Python 3 (ipykernel)",
   "language": "python",
   "name": "python3"
  },
  "language_info": {
   "codemirror_mode": {
    "name": "ipython",
    "version": 3
   },
   "file_extension": ".py",
   "mimetype": "text/x-python",
   "name": "python",
   "nbconvert_exporter": "python",
   "pygments_lexer": "ipython3",
   "version": "3.9.17"
  }
 },
 "nbformat": 4,
 "nbformat_minor": 5
}
